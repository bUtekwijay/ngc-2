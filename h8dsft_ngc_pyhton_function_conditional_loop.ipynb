{
 "cells": [
  {
   "cell_type": "markdown",
   "metadata": {},
   "source": [
    "## NGC-2 ##"
   ]
  },
  {
   "cell_type": "code",
   "execution_count": 2,
   "metadata": {},
   "outputs": [
    {
     "name": "stdout",
     "output_type": "stream",
     "text": [
      "2\n",
      "8\n"
     ]
    }
   ],
   "source": [
    "#mendefinisikan func dengan nama number_of_word\n",
    "def number_of_word(sentence):\n",
    "  #menggunakan split method utk memisahkan kata\n",
    "  words = sentence.split()\n",
    "  return len(words)\n",
    "\n",
    "print(number_of_word(sentence = 'Hello World!'))\n",
    "print(number_of_word(sentence = \"Once Upon a time in a faraway land\"))"
   ]
  },
  {
   "cell_type": "code",
   "execution_count": 3,
   "metadata": {},
   "outputs": [
    {
     "name": "stdout",
     "output_type": "stream",
     "text": [
      "[5, 10, 15, 20]\n",
      "[10, 20, 30, 40, 50]\n"
     ]
    }
   ],
   "source": [
    "#mendefinisikan func eprkalian dgn 3 input dengan jarak angka yg spesifik\n",
    "def find_multiples(start_range, end_range, multiple):\n",
    "\n",
    "#membuat daftar kosong dengan nama multiple_list\n",
    "  multiples_list = []\n",
    "  #memulai sebuah perulangan dgn rentang bilangan\n",
    "  for num in range(start_range, end_range + 1):\n",
    "    #jika kondisi if benar maka angka akan masuk ke list\n",
    "    if num % multiple == 0:\n",
    "      #angka yg sudah masuk ke list akan terus bertambah\n",
    "      multiples_list.append(num)\n",
    "  #perulangan akan selesai kalo misalnya syaratnya terpenuhi\n",
    "  return multiples_list\n",
    "\n",
    "result1 = find_multiples(1, 20, 5)\n",
    "print(result1)\n",
    "\n",
    "result2 = find_multiples(1, 50, 10)\n",
    "print(result2)"
   ]
  },
  {
   "cell_type": "code",
   "execution_count": 5,
   "metadata": {},
   "outputs": [
    {
     "name": "stdout",
     "output_type": "stream",
     "text": [
      "{'Adam': 2.5, 'Faiz': 4}\n",
      "{'Albert': 'A', 'Dwi': 'B', 'Syahdan': 'D', 'Veronica': 'B'}\n"
     ]
    }
   ],
   "source": [
    "#mendefinisikan func grade_converter menjadi letter_grade atau ke gpa\n",
    "def Grade_Converter(convert_to, **kwargs):\n",
    "    # mendefinisikan grade dan GPA berdasarkan skala nilai\n",
    "    #membuat list skala nilai dari nilai tertinggi, nilai terendah, nilai dalan bentuk huruf, dan ipk\n",
    "    grade_scale = [\n",
    "        (85, 100, 'A', 4),\n",
    "        (70, 84.99, 'B', 3),\n",
    "        (60, 69.99, 'C', 2.5),\n",
    "        (50, 59.99, 'D', 2),\n",
    "        (40, 49.99, 'E', 1.5),\n",
    "        (0, 39.99, 'F', 1),\n",
    "    ]\n",
    "\n",
    "    result = {}\n",
    "\n",
    "    for student, score in kwargs.items():\n",
    "#kondisi melalui setiap rentang nilai di dlm grade_scale\n",
    "        for min_score, max_score, letter_grade, gpa in grade_scale:\n",
    "#jika siswa dalam rentang nilai tertentu maka\n",
    "            if min_score <= score <= max_score:\n",
    "#maka nilai akan keluar dengan knonversi letter_grade\n",
    "                if convert_to == 'letter_grade':\n",
    "                    result[student] = letter_grade\n",
    "#jika di konversi ke gpa maka nilai akan keluar dengan bentuk ipk\n",
    "                elif convert_to == 'gpa':\n",
    "                    result[student] = gpa\n",
    "                break\n",
    "\n",
    "    return result\n",
    "\n",
    "#Contoh penggunaan kasus\n",
    "#mengkonversi nilai ke gpa\n",
    "print(Grade_Converter('gpa', Adam=62, Faiz=91))\n",
    "#mengkonversi nilai ke letter_grade\n",
    "print(Grade_Converter('letter_grade', Albert=90, Dwi=82, Syahdan=58, Veronica=84)) "
   ]
  },
  {
   "cell_type": "code",
   "execution_count": null,
   "metadata": {},
   "outputs": [
    {
     "ename": "SyntaxError",
     "evalue": "invalid syntax (2733447080.py, line 15)",
     "output_type": "error",
     "traceback": [
      "\u001b[1;36m  File \u001b[1;32m\"C:\\Users\\ditya\\AppData\\Local\\Temp\\ipykernel_15292\\2733447080.py\"\u001b[1;36m, line \u001b[1;32m15\u001b[0m\n\u001b[1;33m    if index == 0, 4, 10:\u001b[0m\n\u001b[1;37m                 ^\u001b[0m\n\u001b[1;31mSyntaxError\u001b[0m\u001b[1;31m:\u001b[0m invalid syntax\n"
     ]
    }
   ],
   "source": [
    "def fib():\n",
    "    # Inisialisasi dua variabel awal untuk deret Fibonacci\n",
    "    a, b = 1, 1\n",
    "    while True:\n",
    "        # yield mengembalikan nilai saat ini dan menyimpan state fungsi\n",
    "        yield a\n",
    "        # Mengupdate nilai untuk iterasi berikutnya:\n",
    "        # a menjadi b\n",
    "        # b menjadi a + b\n",
    "        a, b = b, a + b\n",
    "\n",
    "# Menggunakan enumerate untuk mendapatkan index dan nilai dari generator fib()\n",
    "for index, x in enumerate(fib()):\n",
    "    # Berhenti saat index mencapai 10\n",
    "    if index == 10:\n",
    "        break\n",
    "    # Mencetak nilai Fibonacci\n",
    "    print(\"%s\" % x),"
   ]
  }
 ],
 "metadata": {
  "kernelspec": {
   "display_name": "base",
   "language": "python",
   "name": "python3"
  },
  "language_info": {
   "codemirror_mode": {
    "name": "ipython",
    "version": 3
   },
   "file_extension": ".py",
   "mimetype": "text/x-python",
   "name": "python",
   "nbconvert_exporter": "python",
   "pygments_lexer": "ipython3",
   "version": "3.9.13"
  }
 },
 "nbformat": 4,
 "nbformat_minor": 2
}
